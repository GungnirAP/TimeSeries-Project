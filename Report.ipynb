{
 "cells": [
  {
   "attachments": {},
   "cell_type": "markdown",
   "metadata": {},
   "source": [
    "# Time Structured Data Analysis. Project #2\n",
    "### **Authors:** Petrov Stanislav, Telesheva Elina\n",
    "21.05.2023"
   ]
  },
  {
   "cell_type": "code",
   "execution_count": 1,
   "metadata": {},
   "outputs": [],
   "source": [
    "import pandas as pd\n",
    "import numpy as np\n",
    "from datetime import datetime\n",
    "from sklearn.metrics import make_scorer, mean_absolute_error as MAE\n",
    "\n",
    "from Model import Machinery, pnl_score\n",
    "from ChangePointDetection import ChangePointDetector"
   ]
  },
  {
   "cell_type": "code",
   "execution_count": 2,
   "metadata": {
    "scrolled": false
   },
   "outputs": [],
   "source": [
    "rates = pd.read_csv(\"./data/input_rates.csv\", index_col=0).values\n",
    "rates = dict(rates)\n",
    "\n",
    "date_parser = lambda x: datetime.strptime(x, \"%Y-%m-%d %H:%M:%S.%f\")\n",
    "df = pd.read_excel('data/Project 2_2023.xlsx', sheet_name='Data', \n",
    "                   parse_dates=['Date'], date_parser=date_parser)\n",
    "df = df.set_index('Date')\n",
    "df.index.name = 'Date'\n",
    "\n",
    "train_dates, test_dates = df[:'2020-12-31'].index, df['2021-01-01':'2021-03-31'].index[:-1]\n",
    "income, outcome = df[\"Income\"], df[\"Outcome\"]\n",
    "target = (df[\"Income\"] - df[\"Outcome\"]).shift(-1)[:-1]\n",
    "\n",
    "pnl_scorer = make_scorer(pnl_score, greater_is_better=True, rates=rates)\n",
    "\n",
    "change_point_detector = ChangePointDetector()\n",
    "\n",
    "machine = Machinery(score=pnl_score, scorer=pnl_scorer, k_features=10)\n",
    "machine.finetune(income[train_dates], outcome[train_dates], target[train_dates])"
   ]
  },
  {
   "cell_type": "code",
   "execution_count": 3,
   "metadata": {
    "collapsed": true
   },
   "outputs": [],
   "source": [
    "all_preds = []\n",
    "all_targets = []\n",
    "for date in tqdm(test_dates):\n",
    "#     force_finetune = False\n",
    "#     for series in [income, outcome]:\n",
    "#         last_chp_date = change_point_detector.detect_changepoint(series[:date])\n",
    "#         if last_chp_date:\n",
    "#             if (date - last_chp_date).days < machine.finetune_every:\n",
    "#                 force_finetune = True\n",
    "#                 break\n",
    "#     if force_finetune:\n",
    "#         machine.finetune_count = machine.finetune_every\n",
    "#         machine.finetune(income[:date][:-1], outcome[:date][:-1], target[:date][:-1])\n",
    "\n",
    "    prediction = machine.predict(income[:date], outcome[:date])\n",
    "    all_preds.append(prediction)\n",
    "    all_targets.append(target[date])\n",
    "#     machine.finetune(income[:date], outcome[:date], target[:date])\n",
    "    machine.calibrate_model(income[:date], outcome[:date], target[:date])\n",
    "\n",
    "output = pd.DataFrame([np.array(all_preds).T[0],  np.array(all_targets)]).T\n",
    "output.columns = [\"prediction\", \"fact\"]\n",
    "output.index = test_dates\n",
    "output.to_csv(\"experiment_k10_no_finetune.csv\")"
   ]
  },
  {
   "cell_type": "code",
   "execution_count": 4,
   "metadata": {},
   "outputs": [
    {
     "name": "stdout",
     "output_type": "stream",
     "text": [
      "0.27645912119320915\n"
     ]
    }
   ],
   "source": [
    "MAE(output.prediction, output.fact)"
   ]
  },
  {
   "cell_type": "code",
   "execution_count": 5,
   "metadata": {},
   "outputs": [
    {
     "data": {
      "text/plain": [
       "-0.0009424470372840411"
      ]
     },
     "execution_count": 5,
     "metadata": {},
     "output_type": "execute_result"
    }
   ],
   "source": [
    "pnl_score(output.prediction, output.fact)"
   ]
  }
 ],
 "metadata": {
  "kernelspec": {
   "display_name": "Python 3",
   "language": "python",
   "name": "python3"
  },
  "language_info": {
   "codemirror_mode": {
    "name": "ipython",
    "version": 3
   },
   "file_extension": ".py",
   "mimetype": "text/x-python",
   "name": "python",
   "nbconvert_exporter": "python",
   "pygments_lexer": "ipython3",
   "version": "3.10.9"
  }
 },
 "nbformat": 4,
 "nbformat_minor": 2
}
