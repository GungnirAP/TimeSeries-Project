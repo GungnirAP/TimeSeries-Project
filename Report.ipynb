{
 "cells": [
  {
   "cell_type": "code",
   "execution_count": 2,
   "metadata": {},
   "outputs": [],
   "source": [
    "import pandas as pd\n",
    "import numpy as np\n",
    "from datetime import datetime\n",
    "from sklearn.metrics import make_scorer, mean_absolute_error as MAE\n",
    "\n",
    "from Model import Machinery, pnl_score\n",
    "from ChangePointDetection import ChangePointDetector"
   ]
  },
  {
   "cell_type": "code",
   "execution_count": null,
   "metadata": {},
   "outputs": [],
   "source": [
    "rates = pd.read_csv(\"./data/input_rates.csv\", index_col=0).values\n",
    "rates = dict(rates)\n",
    "\n",
    "date_parser = lambda x: datetime.strptime(x, \"%Y-%m-%d %H:%M:%S.%f\")\n",
    "df = pd.read_excel('data/Project 2_2023.xlsx', sheet_name='Data', \n",
    "                    parse_dates=['Date'], date_parser=date_parser)\n",
    "df = df.set_index('Date')\n",
    "df.index.name = 'Date'\n",
    "\n",
    "train_dates, test_dates = df[:'2021-01-01'].index, df['2021-01-01':'2021-03-31'].index\n",
    "income, outcome = df[\"Income\"], df[\"Outcome\"]\n",
    "target = (df[\"Income\"] - df[\"Outcome\"]).shift(-1)[:-1]\n",
    "\n",
    "test_scores = []\n",
    "pnl_scorer = make_scorer(pnl_score, greater_is_better=True, rates=rates)\n",
    "\n",
    "change_point_detector = ChangePointDetector()\n",
    "\n",
    "machine = Machinery(score=pnl_score, scorer=pnl_scorer, k_features=5)\n",
    "machine.finetune(income[train_dates], outcome[train_dates], target[train_dates])\n",
    "\n",
    "for date in test_dates:\n",
    "    force_finetune = False\n",
    "    for series in [income, outcome]:\n",
    "        last_chp_date = change_point_detector.detect_changepoint(series[:date])\n",
    "        if last_chp_date:\n",
    "            if (date - last_chp_date).days < machine.finetune_every:\n",
    "                force_finetune = True\n",
    "                break\n",
    "    if force_finetune:\n",
    "        machine.finetune_count = machine.finetune_every\n",
    "        machine.finetune(income[:date][:-1], outcome[:date][:-1], target[:date][:-1])\n",
    "\n",
    "    prediction = machine.predict(income[:date], outcome[:date], horizon=1)\n",
    "\n",
    "    score = pnl_score(target[date], prediction)\n",
    "    mae_error = MAE(target[date], prediction)\n",
    "    test_scores.append((date, mae_error, score))\n",
    "\n",
    "    machine.finetune(income[:date], outcome[:date], target[:date])\n",
    "    machine.calibrate_model(income[:date], outcome[:date], target[:date])\n",
    "\n",
    "\n",
    "to_print = [f\"{date.strftime('%Y-%m-%d')} {error} {score}\" for date, error, score in test_scores]\n",
    "with open(\"test_errors.txt\", \"w\") as f:\n",
    "    f.write(\"\\n\".join(to_print))"
   ]
  }
 ],
 "metadata": {
  "kernelspec": {
   "display_name": "Python 3",
   "language": "python",
   "name": "python3"
  },
  "language_info": {
   "codemirror_mode": {
    "name": "ipython",
    "version": 3
   },
   "file_extension": ".py",
   "mimetype": "text/x-python",
   "name": "python",
   "nbconvert_exporter": "python",
   "pygments_lexer": "ipython3",
   "version": "3.10.9"
  },
  "orig_nbformat": 4
 },
 "nbformat": 4,
 "nbformat_minor": 2
}
