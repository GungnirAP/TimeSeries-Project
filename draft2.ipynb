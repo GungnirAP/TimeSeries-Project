{
 "cells": [
  {
   "cell_type": "code",
   "execution_count": 13,
   "id": "0efa470f",
   "metadata": {},
   "outputs": [],
   "source": [
    "import pandas as pd\n",
    "from datetime import datetime\n"
   ]
  },
  {
   "cell_type": "code",
   "execution_count": 14,
   "id": "cbbb7aad",
   "metadata": {},
   "outputs": [
    {
     "name": "stderr",
     "output_type": "stream",
     "text": [
      "C:\\Users\\Stanislav\\AppData\\Local\\Temp\\ipykernel_4244\\3794785529.py:5: FutureWarning: The argument 'date_parser' is deprecated and will be removed in a future version. Please use 'date_format' instead, or read your data in as 'object' dtype and then call 'to_datetime'.\n",
      "  df = pd.read_excel('data/Project 2_2023.xlsx', sheet_name='Data',\n"
     ]
    }
   ],
   "source": [
    "rates = pd.read_csv(\"./data/input_rates.csv\", index_col=0).values\n",
    "rates = dict(rates)\n",
    "\n",
    "date_parser = lambda x: datetime.strptime(x, \"%Y-%m-%d %H:%M:%S.%f\")\n",
    "df = pd.read_excel('data/Project 2_2023.xlsx', sheet_name='Data', \n",
    "                    parse_dates=['Date'], date_parser=date_parser)\n",
    "df = df.set_index('Date')\n",
    "df.index.name = 'Date'"
   ]
  },
  {
   "cell_type": "code",
   "execution_count": null,
   "id": "cfd0d07b",
   "metadata": {},
   "outputs": [],
   "source": []
  }
 ],
 "metadata": {
  "kernelspec": {
   "display_name": "Python 3 (ipykernel)",
   "language": "python",
   "name": "python3"
  },
  "language_info": {
   "codemirror_mode": {
    "name": "ipython",
    "version": 3
   },
   "file_extension": ".py",
   "mimetype": "text/x-python",
   "name": "python",
   "nbconvert_exporter": "python",
   "pygments_lexer": "ipython3",
   "version": "3.10.9"
  }
 },
 "nbformat": 4,
 "nbformat_minor": 5
}
